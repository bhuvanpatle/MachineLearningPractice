{
  "cells": [
    {
      "cell_type": "markdown",
      "metadata": {
        "id": "view-in-github",
        "colab_type": "text"
      },
      "source": [
        "<a href=\"https://colab.research.google.com/github/bhuvanpatle/MachineLearningPractice/blob/main/exercise/Exercise_2_ML.ipynb\" target=\"_parent\"><img src=\"https://colab.research.google.com/assets/colab-badge.svg\" alt=\"Open In Colab\"/></a>"
      ]
    },
    {
      "cell_type": "markdown",
      "metadata": {
        "id": "cygDYwkqlv8o"
      },
      "source": [
        "Exercise 2: Python for Data Analysis with Google Colab"
      ]
    },
    {
      "cell_type": "markdown",
      "metadata": {
        "id": "P1lo4YYumBKG"
      },
      "source": [
        "Import libraries"
      ]
    },
    {
      "cell_type": "code",
      "execution_count": null,
      "metadata": {
        "id": "sbFlxvaCluCF"
      },
      "outputs": [],
      "source": [
        "import pandas as pd\n",
        "import numpy as np\n",
        "import matplotlib.pyplot as plt\n",
        "import seaborn as sns\n",
        "import re\n",
        "sns.set()\n"
      ]
    },
    {
      "cell_type": "code",
      "execution_count": null,
      "metadata": {
        "id": "kX85N9P3mHGX"
      },
      "outputs": [],
      "source": [
        "df_hotels =  pd.read_csv('https://raw.githubusercontent.com/rfordatascience/tidytuesday/master/data/2020/2020-02-11/hotels.csv')"
      ]
    },
    {
      "cell_type": "code",
      "execution_count": null,
      "metadata": {
        "colab": {
          "base_uri": "https://localhost:8080/"
        },
        "id": "yUBgYLDoqvzF",
        "outputId": "7225a2f3-1538-4462-a1eb-3a08adfd8baa"
      },
      "outputs": [
        {
          "name": "stdout",
          "output_type": "stream",
          "text": [
            "               hotel  is_canceled  lead_time  arrival_date_year  \\\n",
            "0       Resort Hotel            0        342               2015   \n",
            "1       Resort Hotel            0        737               2015   \n",
            "2       Resort Hotel            0          7               2015   \n",
            "3       Resort Hotel            0         13               2015   \n",
            "4       Resort Hotel            0         14               2015   \n",
            "...              ...          ...        ...                ...   \n",
            "119385    City Hotel            0         23               2017   \n",
            "119386    City Hotel            0        102               2017   \n",
            "119387    City Hotel            0         34               2017   \n",
            "119388    City Hotel            0        109               2017   \n",
            "119389    City Hotel            0        205               2017   \n",
            "\n",
            "       arrival_date_month  arrival_date_week_number  \\\n",
            "0                    July                        27   \n",
            "1                    July                        27   \n",
            "2                    July                        27   \n",
            "3                    July                        27   \n",
            "4                    July                        27   \n",
            "...                   ...                       ...   \n",
            "119385             August                        35   \n",
            "119386             August                        35   \n",
            "119387             August                        35   \n",
            "119388             August                        35   \n",
            "119389             August                        35   \n",
            "\n",
            "        arrival_date_day_of_month  stays_in_weekend_nights  \\\n",
            "0                               1                        0   \n",
            "1                               1                        0   \n",
            "2                               1                        0   \n",
            "3                               1                        0   \n",
            "4                               1                        0   \n",
            "...                           ...                      ...   \n",
            "119385                         30                        2   \n",
            "119386                         31                        2   \n",
            "119387                         31                        2   \n",
            "119388                         31                        2   \n",
            "119389                         29                        2   \n",
            "\n",
            "        stays_in_week_nights  adults  ...  deposit_type  agent company  \\\n",
            "0                          0       2  ...    No Deposit    NaN     NaN   \n",
            "1                          0       2  ...    No Deposit    NaN     NaN   \n",
            "2                          1       1  ...    No Deposit    NaN     NaN   \n",
            "3                          1       1  ...    No Deposit  304.0     NaN   \n",
            "4                          2       2  ...    No Deposit  240.0     NaN   \n",
            "...                      ...     ...  ...           ...    ...     ...   \n",
            "119385                     5       2  ...    No Deposit  394.0     NaN   \n",
            "119386                     5       3  ...    No Deposit    9.0     NaN   \n",
            "119387                     5       2  ...    No Deposit    9.0     NaN   \n",
            "119388                     5       2  ...    No Deposit   89.0     NaN   \n",
            "119389                     7       2  ...    No Deposit    9.0     NaN   \n",
            "\n",
            "       days_in_waiting_list customer_type     adr  \\\n",
            "0                         0     Transient    0.00   \n",
            "1                         0     Transient    0.00   \n",
            "2                         0     Transient   75.00   \n",
            "3                         0     Transient   75.00   \n",
            "4                         0     Transient   98.00   \n",
            "...                     ...           ...     ...   \n",
            "119385                    0     Transient   96.14   \n",
            "119386                    0     Transient  225.43   \n",
            "119387                    0     Transient  157.71   \n",
            "119388                    0     Transient  104.40   \n",
            "119389                    0     Transient  151.20   \n",
            "\n",
            "        required_car_parking_spaces  total_of_special_requests  \\\n",
            "0                                 0                          0   \n",
            "1                                 0                          0   \n",
            "2                                 0                          0   \n",
            "3                                 0                          0   \n",
            "4                                 0                          1   \n",
            "...                             ...                        ...   \n",
            "119385                            0                          0   \n",
            "119386                            0                          2   \n",
            "119387                            0                          4   \n",
            "119388                            0                          0   \n",
            "119389                            0                          2   \n",
            "\n",
            "        reservation_status reservation_status_date  \n",
            "0                Check-Out              2015-07-01  \n",
            "1                Check-Out              2015-07-01  \n",
            "2                Check-Out              2015-07-02  \n",
            "3                Check-Out              2015-07-02  \n",
            "4                Check-Out              2015-07-03  \n",
            "...                    ...                     ...  \n",
            "119385           Check-Out              2017-09-06  \n",
            "119386           Check-Out              2017-09-07  \n",
            "119387           Check-Out              2017-09-07  \n",
            "119388           Check-Out              2017-09-07  \n",
            "119389           Check-Out              2017-09-07  \n",
            "\n",
            "[119390 rows x 32 columns]\n"
          ]
        }
      ],
      "source": [
        "print(df_hotels)"
      ]
    },
    {
      "cell_type": "code",
      "execution_count": null,
      "metadata": {
        "id": "4eW8yan1manr"
      },
      "outputs": [],
      "source": [
        "df_hotels = df_hotels.reset_index().rename(columns={'index':'id'})"
      ]
    },
    {
      "cell_type": "markdown",
      "metadata": {
        "id": "kycU8uYyqNUS"
      },
      "source": [
        "Question 1"
      ]
    },
    {
      "cell_type": "code",
      "execution_count": null,
      "metadata": {
        "id": "2PX0AjFTnUoe"
      },
      "outputs": [],
      "source": [
        "def check_values(df):\n",
        "    data = []\n",
        "    for column in df.columns:\n",
        "      data.append([\n",
        "                  column, \\\n",
        "                  df[column].dtype, \\\n",
        "                  df[column].isna().sum(), \\\n",
        "                  round(100*(df[column].isna().sum()/len(df)),4), \\\n",
        "                  df[column].nunique()\n",
        "                  ])\n",
        "    return pd.DataFrame(columns=['Data_Features','Data_Type','Null','Null_Percentage','Unique_Value'], data=data)\n"
      ]
    },
    {
      "cell_type": "code",
      "execution_count": null,
      "metadata": {
        "colab": {
          "base_uri": "https://localhost:8080/"
        },
        "collapsed": true,
        "id": "IKkJg1XGoHOf",
        "outputId": "cbf5bf95-686f-4fa0-d972-e975f9f207b6"
      },
      "outputs": [
        {
          "name": "stdout",
          "output_type": "stream",
          "text": [
            "            id         hotel  is_canceled  lead_time  arrival_date_year  \\\n",
            "0            0  Resort Hotel            0        342               2015   \n",
            "1            1  Resort Hotel            0        737               2015   \n",
            "2            2  Resort Hotel            0          7               2015   \n",
            "3            3  Resort Hotel            0         13               2015   \n",
            "4            4  Resort Hotel            0         14               2015   \n",
            "...        ...           ...          ...        ...                ...   \n",
            "119385  119385    City Hotel            0         23               2017   \n",
            "119386  119386    City Hotel            0        102               2017   \n",
            "119387  119387    City Hotel            0         34               2017   \n",
            "119388  119388    City Hotel            0        109               2017   \n",
            "119389  119389    City Hotel            0        205               2017   \n",
            "\n",
            "       arrival_date_month  arrival_date_week_number  \\\n",
            "0                    July                        27   \n",
            "1                    July                        27   \n",
            "2                    July                        27   \n",
            "3                    July                        27   \n",
            "4                    July                        27   \n",
            "...                   ...                       ...   \n",
            "119385             August                        35   \n",
            "119386             August                        35   \n",
            "119387             August                        35   \n",
            "119388             August                        35   \n",
            "119389             August                        35   \n",
            "\n",
            "        arrival_date_day_of_month  stays_in_weekend_nights  \\\n",
            "0                               1                        0   \n",
            "1                               1                        0   \n",
            "2                               1                        0   \n",
            "3                               1                        0   \n",
            "4                               1                        0   \n",
            "...                           ...                      ...   \n",
            "119385                         30                        2   \n",
            "119386                         31                        2   \n",
            "119387                         31                        2   \n",
            "119388                         31                        2   \n",
            "119389                         29                        2   \n",
            "\n",
            "        stays_in_week_nights  ...  deposit_type  agent  company  \\\n",
            "0                          0  ...    No Deposit    NaN      NaN   \n",
            "1                          0  ...    No Deposit    NaN      NaN   \n",
            "2                          1  ...    No Deposit    NaN      NaN   \n",
            "3                          1  ...    No Deposit  304.0      NaN   \n",
            "4                          2  ...    No Deposit  240.0      NaN   \n",
            "...                      ...  ...           ...    ...      ...   \n",
            "119385                     5  ...    No Deposit  394.0      NaN   \n",
            "119386                     5  ...    No Deposit    9.0      NaN   \n",
            "119387                     5  ...    No Deposit    9.0      NaN   \n",
            "119388                     5  ...    No Deposit   89.0      NaN   \n",
            "119389                     7  ...    No Deposit    9.0      NaN   \n",
            "\n",
            "       days_in_waiting_list customer_type     adr required_car_parking_spaces  \\\n",
            "0                         0     Transient    0.00                           0   \n",
            "1                         0     Transient    0.00                           0   \n",
            "2                         0     Transient   75.00                           0   \n",
            "3                         0     Transient   75.00                           0   \n",
            "4                         0     Transient   98.00                           0   \n",
            "...                     ...           ...     ...                         ...   \n",
            "119385                    0     Transient   96.14                           0   \n",
            "119386                    0     Transient  225.43                           0   \n",
            "119387                    0     Transient  157.71                           0   \n",
            "119388                    0     Transient  104.40                           0   \n",
            "119389                    0     Transient  151.20                           0   \n",
            "\n",
            "        total_of_special_requests  reservation_status  reservation_status_date  \n",
            "0                               0           Check-Out               2015-07-01  \n",
            "1                               0           Check-Out               2015-07-01  \n",
            "2                               0           Check-Out               2015-07-02  \n",
            "3                               0           Check-Out               2015-07-02  \n",
            "4                               1           Check-Out               2015-07-03  \n",
            "...                           ...                 ...                      ...  \n",
            "119385                          0           Check-Out               2017-09-06  \n",
            "119386                          2           Check-Out               2017-09-07  \n",
            "119387                          4           Check-Out               2017-09-07  \n",
            "119388                          0           Check-Out               2017-09-07  \n",
            "119389                          2           Check-Out               2017-09-07  \n",
            "\n",
            "[119390 rows x 33 columns]\n"
          ]
        }
      ],
      "source": [
        "print(df_hotels)\n"
      ]
    },
    {
      "cell_type": "code",
      "execution_count": null,
      "metadata": {
        "colab": {
          "base_uri": "https://localhost:8080/",
          "height": 1000
        },
        "id": "fGUypVw4qYm_",
        "outputId": "5982795c-f56e-4183-cc0e-3d876d35d377"
      },
      "outputs": [
        {
          "data": {
            "application/vnd.google.colaboratory.intrinsic+json": {
              "summary": "{\n  \"name\": \"check_values(df_hotels)\",\n  \"rows\": 33,\n  \"fields\": [\n    {\n      \"column\": \"Data_Features\",\n      \"properties\": {\n        \"dtype\": \"string\",\n        \"num_unique_values\": 33,\n        \"samples\": [\n          \"reservation_status\",\n          \"market_segment\",\n          \"days_in_waiting_list\"\n        ],\n        \"semantic_type\": \"\",\n        \"description\": \"\"\n      }\n    },\n    {\n      \"column\": \"Data_Type\",\n      \"properties\": {\n        \"dtype\": \"category\",\n        \"num_unique_values\": 3,\n        \"samples\": [\n          \"int64\",\n          \"object\",\n          \"float64\"\n        ],\n        \"semantic_type\": \"\",\n        \"description\": \"\"\n      }\n    },\n    {\n      \"column\": \"Null\",\n      \"properties\": {\n        \"dtype\": \"number\",\n        \"std\": 19714,\n        \"min\": 0,\n        \"max\": 112593,\n        \"num_unique_values\": 5,\n        \"samples\": [\n          4,\n          112593,\n          488\n        ],\n        \"semantic_type\": \"\",\n        \"description\": \"\"\n      }\n    },\n    {\n      \"column\": \"Null_Percentage\",\n      \"properties\": {\n        \"dtype\": \"number\",\n        \"std\": 16.512456251171024,\n        \"min\": 0.0,\n        \"max\": 94.3069,\n        \"num_unique_values\": 5,\n        \"samples\": [\n          0.0034,\n          94.3069,\n          0.4087\n        ],\n        \"semantic_type\": \"\",\n        \"description\": \"\"\n      }\n    },\n    {\n      \"column\": \"Unique_Value\",\n      \"properties\": {\n        \"dtype\": \"number\",\n        \"std\": 20777,\n        \"min\": 2,\n        \"max\": 119390,\n        \"num_unique_values\": 24,\n        \"samples\": [\n          35,\n          21,\n          119390\n        ],\n        \"semantic_type\": \"\",\n        \"description\": \"\"\n      }\n    }\n  ]\n}",
              "type": "dataframe"
            },
            "text/html": [
              "\n",
              "  <div id=\"df-77ac424f-7ce6-4248-96eb-5d7be4f13350\" class=\"colab-df-container\">\n",
              "    <div>\n",
              "<style scoped>\n",
              "    .dataframe tbody tr th:only-of-type {\n",
              "        vertical-align: middle;\n",
              "    }\n",
              "\n",
              "    .dataframe tbody tr th {\n",
              "        vertical-align: top;\n",
              "    }\n",
              "\n",
              "    .dataframe thead th {\n",
              "        text-align: right;\n",
              "    }\n",
              "</style>\n",
              "<table border=\"1\" class=\"dataframe\">\n",
              "  <thead>\n",
              "    <tr style=\"text-align: right;\">\n",
              "      <th></th>\n",
              "      <th>Data_Features</th>\n",
              "      <th>Data_Type</th>\n",
              "      <th>Null</th>\n",
              "      <th>Null_Percentage</th>\n",
              "      <th>Unique_Value</th>\n",
              "    </tr>\n",
              "  </thead>\n",
              "  <tbody>\n",
              "    <tr>\n",
              "      <th>0</th>\n",
              "      <td>id</td>\n",
              "      <td>int64</td>\n",
              "      <td>0</td>\n",
              "      <td>0.0000</td>\n",
              "      <td>119390</td>\n",
              "    </tr>\n",
              "    <tr>\n",
              "      <th>1</th>\n",
              "      <td>hotel</td>\n",
              "      <td>object</td>\n",
              "      <td>0</td>\n",
              "      <td>0.0000</td>\n",
              "      <td>2</td>\n",
              "    </tr>\n",
              "    <tr>\n",
              "      <th>2</th>\n",
              "      <td>is_canceled</td>\n",
              "      <td>int64</td>\n",
              "      <td>0</td>\n",
              "      <td>0.0000</td>\n",
              "      <td>2</td>\n",
              "    </tr>\n",
              "    <tr>\n",
              "      <th>3</th>\n",
              "      <td>lead_time</td>\n",
              "      <td>int64</td>\n",
              "      <td>0</td>\n",
              "      <td>0.0000</td>\n",
              "      <td>479</td>\n",
              "    </tr>\n",
              "    <tr>\n",
              "      <th>4</th>\n",
              "      <td>arrival_date_year</td>\n",
              "      <td>int64</td>\n",
              "      <td>0</td>\n",
              "      <td>0.0000</td>\n",
              "      <td>3</td>\n",
              "    </tr>\n",
              "    <tr>\n",
              "      <th>5</th>\n",
              "      <td>arrival_date_month</td>\n",
              "      <td>object</td>\n",
              "      <td>0</td>\n",
              "      <td>0.0000</td>\n",
              "      <td>12</td>\n",
              "    </tr>\n",
              "    <tr>\n",
              "      <th>6</th>\n",
              "      <td>arrival_date_week_number</td>\n",
              "      <td>int64</td>\n",
              "      <td>0</td>\n",
              "      <td>0.0000</td>\n",
              "      <td>53</td>\n",
              "    </tr>\n",
              "    <tr>\n",
              "      <th>7</th>\n",
              "      <td>arrival_date_day_of_month</td>\n",
              "      <td>int64</td>\n",
              "      <td>0</td>\n",
              "      <td>0.0000</td>\n",
              "      <td>31</td>\n",
              "    </tr>\n",
              "    <tr>\n",
              "      <th>8</th>\n",
              "      <td>stays_in_weekend_nights</td>\n",
              "      <td>int64</td>\n",
              "      <td>0</td>\n",
              "      <td>0.0000</td>\n",
              "      <td>17</td>\n",
              "    </tr>\n",
              "    <tr>\n",
              "      <th>9</th>\n",
              "      <td>stays_in_week_nights</td>\n",
              "      <td>int64</td>\n",
              "      <td>0</td>\n",
              "      <td>0.0000</td>\n",
              "      <td>35</td>\n",
              "    </tr>\n",
              "    <tr>\n",
              "      <th>10</th>\n",
              "      <td>adults</td>\n",
              "      <td>int64</td>\n",
              "      <td>0</td>\n",
              "      <td>0.0000</td>\n",
              "      <td>14</td>\n",
              "    </tr>\n",
              "    <tr>\n",
              "      <th>11</th>\n",
              "      <td>children</td>\n",
              "      <td>float64</td>\n",
              "      <td>4</td>\n",
              "      <td>0.0034</td>\n",
              "      <td>5</td>\n",
              "    </tr>\n",
              "    <tr>\n",
              "      <th>12</th>\n",
              "      <td>babies</td>\n",
              "      <td>int64</td>\n",
              "      <td>0</td>\n",
              "      <td>0.0000</td>\n",
              "      <td>5</td>\n",
              "    </tr>\n",
              "    <tr>\n",
              "      <th>13</th>\n",
              "      <td>meal</td>\n",
              "      <td>object</td>\n",
              "      <td>0</td>\n",
              "      <td>0.0000</td>\n",
              "      <td>5</td>\n",
              "    </tr>\n",
              "    <tr>\n",
              "      <th>14</th>\n",
              "      <td>country</td>\n",
              "      <td>object</td>\n",
              "      <td>488</td>\n",
              "      <td>0.4087</td>\n",
              "      <td>177</td>\n",
              "    </tr>\n",
              "    <tr>\n",
              "      <th>15</th>\n",
              "      <td>market_segment</td>\n",
              "      <td>object</td>\n",
              "      <td>0</td>\n",
              "      <td>0.0000</td>\n",
              "      <td>8</td>\n",
              "    </tr>\n",
              "    <tr>\n",
              "      <th>16</th>\n",
              "      <td>distribution_channel</td>\n",
              "      <td>object</td>\n",
              "      <td>0</td>\n",
              "      <td>0.0000</td>\n",
              "      <td>5</td>\n",
              "    </tr>\n",
              "    <tr>\n",
              "      <th>17</th>\n",
              "      <td>is_repeated_guest</td>\n",
              "      <td>int64</td>\n",
              "      <td>0</td>\n",
              "      <td>0.0000</td>\n",
              "      <td>2</td>\n",
              "    </tr>\n",
              "    <tr>\n",
              "      <th>18</th>\n",
              "      <td>previous_cancellations</td>\n",
              "      <td>int64</td>\n",
              "      <td>0</td>\n",
              "      <td>0.0000</td>\n",
              "      <td>15</td>\n",
              "    </tr>\n",
              "    <tr>\n",
              "      <th>19</th>\n",
              "      <td>previous_bookings_not_canceled</td>\n",
              "      <td>int64</td>\n",
              "      <td>0</td>\n",
              "      <td>0.0000</td>\n",
              "      <td>73</td>\n",
              "    </tr>\n",
              "    <tr>\n",
              "      <th>20</th>\n",
              "      <td>reserved_room_type</td>\n",
              "      <td>object</td>\n",
              "      <td>0</td>\n",
              "      <td>0.0000</td>\n",
              "      <td>10</td>\n",
              "    </tr>\n",
              "    <tr>\n",
              "      <th>21</th>\n",
              "      <td>assigned_room_type</td>\n",
              "      <td>object</td>\n",
              "      <td>0</td>\n",
              "      <td>0.0000</td>\n",
              "      <td>12</td>\n",
              "    </tr>\n",
              "    <tr>\n",
              "      <th>22</th>\n",
              "      <td>booking_changes</td>\n",
              "      <td>int64</td>\n",
              "      <td>0</td>\n",
              "      <td>0.0000</td>\n",
              "      <td>21</td>\n",
              "    </tr>\n",
              "    <tr>\n",
              "      <th>23</th>\n",
              "      <td>deposit_type</td>\n",
              "      <td>object</td>\n",
              "      <td>0</td>\n",
              "      <td>0.0000</td>\n",
              "      <td>3</td>\n",
              "    </tr>\n",
              "    <tr>\n",
              "      <th>24</th>\n",
              "      <td>agent</td>\n",
              "      <td>float64</td>\n",
              "      <td>16340</td>\n",
              "      <td>13.6862</td>\n",
              "      <td>333</td>\n",
              "    </tr>\n",
              "    <tr>\n",
              "      <th>25</th>\n",
              "      <td>company</td>\n",
              "      <td>float64</td>\n",
              "      <td>112593</td>\n",
              "      <td>94.3069</td>\n",
              "      <td>352</td>\n",
              "    </tr>\n",
              "    <tr>\n",
              "      <th>26</th>\n",
              "      <td>days_in_waiting_list</td>\n",
              "      <td>int64</td>\n",
              "      <td>0</td>\n",
              "      <td>0.0000</td>\n",
              "      <td>128</td>\n",
              "    </tr>\n",
              "    <tr>\n",
              "      <th>27</th>\n",
              "      <td>customer_type</td>\n",
              "      <td>object</td>\n",
              "      <td>0</td>\n",
              "      <td>0.0000</td>\n",
              "      <td>4</td>\n",
              "    </tr>\n",
              "    <tr>\n",
              "      <th>28</th>\n",
              "      <td>adr</td>\n",
              "      <td>float64</td>\n",
              "      <td>0</td>\n",
              "      <td>0.0000</td>\n",
              "      <td>8879</td>\n",
              "    </tr>\n",
              "    <tr>\n",
              "      <th>29</th>\n",
              "      <td>required_car_parking_spaces</td>\n",
              "      <td>int64</td>\n",
              "      <td>0</td>\n",
              "      <td>0.0000</td>\n",
              "      <td>5</td>\n",
              "    </tr>\n",
              "    <tr>\n",
              "      <th>30</th>\n",
              "      <td>total_of_special_requests</td>\n",
              "      <td>int64</td>\n",
              "      <td>0</td>\n",
              "      <td>0.0000</td>\n",
              "      <td>6</td>\n",
              "    </tr>\n",
              "    <tr>\n",
              "      <th>31</th>\n",
              "      <td>reservation_status</td>\n",
              "      <td>object</td>\n",
              "      <td>0</td>\n",
              "      <td>0.0000</td>\n",
              "      <td>3</td>\n",
              "    </tr>\n",
              "    <tr>\n",
              "      <th>32</th>\n",
              "      <td>reservation_status_date</td>\n",
              "      <td>object</td>\n",
              "      <td>0</td>\n",
              "      <td>0.0000</td>\n",
              "      <td>926</td>\n",
              "    </tr>\n",
              "  </tbody>\n",
              "</table>\n",
              "</div>\n",
              "    <div class=\"colab-df-buttons\">\n",
              "\n",
              "  <div class=\"colab-df-container\">\n",
              "    <button class=\"colab-df-convert\" onclick=\"convertToInteractive('df-77ac424f-7ce6-4248-96eb-5d7be4f13350')\"\n",
              "            title=\"Convert this dataframe to an interactive table.\"\n",
              "            style=\"display:none;\">\n",
              "\n",
              "  <svg xmlns=\"http://www.w3.org/2000/svg\" height=\"24px\" viewBox=\"0 -960 960 960\">\n",
              "    <path d=\"M120-120v-720h720v720H120Zm60-500h600v-160H180v160Zm220 220h160v-160H400v160Zm0 220h160v-160H400v160ZM180-400h160v-160H180v160Zm440 0h160v-160H620v160ZM180-180h160v-160H180v160Zm440 0h160v-160H620v160Z\"/>\n",
              "  </svg>\n",
              "    </button>\n",
              "\n",
              "  <style>\n",
              "    .colab-df-container {\n",
              "      display:flex;\n",
              "      gap: 12px;\n",
              "    }\n",
              "\n",
              "    .colab-df-convert {\n",
              "      background-color: #E8F0FE;\n",
              "      border: none;\n",
              "      border-radius: 50%;\n",
              "      cursor: pointer;\n",
              "      display: none;\n",
              "      fill: #1967D2;\n",
              "      height: 32px;\n",
              "      padding: 0 0 0 0;\n",
              "      width: 32px;\n",
              "    }\n",
              "\n",
              "    .colab-df-convert:hover {\n",
              "      background-color: #E2EBFA;\n",
              "      box-shadow: 0px 1px 2px rgba(60, 64, 67, 0.3), 0px 1px 3px 1px rgba(60, 64, 67, 0.15);\n",
              "      fill: #174EA6;\n",
              "    }\n",
              "\n",
              "    .colab-df-buttons div {\n",
              "      margin-bottom: 4px;\n",
              "    }\n",
              "\n",
              "    [theme=dark] .colab-df-convert {\n",
              "      background-color: #3B4455;\n",
              "      fill: #D2E3FC;\n",
              "    }\n",
              "\n",
              "    [theme=dark] .colab-df-convert:hover {\n",
              "      background-color: #434B5C;\n",
              "      box-shadow: 0px 1px 3px 1px rgba(0, 0, 0, 0.15);\n",
              "      filter: drop-shadow(0px 1px 2px rgba(0, 0, 0, 0.3));\n",
              "      fill: #FFFFFF;\n",
              "    }\n",
              "  </style>\n",
              "\n",
              "    <script>\n",
              "      const buttonEl =\n",
              "        document.querySelector('#df-77ac424f-7ce6-4248-96eb-5d7be4f13350 button.colab-df-convert');\n",
              "      buttonEl.style.display =\n",
              "        google.colab.kernel.accessAllowed ? 'block' : 'none';\n",
              "\n",
              "      async function convertToInteractive(key) {\n",
              "        const element = document.querySelector('#df-77ac424f-7ce6-4248-96eb-5d7be4f13350');\n",
              "        const dataTable =\n",
              "          await google.colab.kernel.invokeFunction('convertToInteractive',\n",
              "                                                    [key], {});\n",
              "        if (!dataTable) return;\n",
              "\n",
              "        const docLinkHtml = 'Like what you see? Visit the ' +\n",
              "          '<a target=\"_blank\" href=https://colab.research.google.com/notebooks/data_table.ipynb>data table notebook</a>'\n",
              "          + ' to learn more about interactive tables.';\n",
              "        element.innerHTML = '';\n",
              "        dataTable['output_type'] = 'display_data';\n",
              "        await google.colab.output.renderOutput(dataTable, element);\n",
              "        const docLink = document.createElement('div');\n",
              "        docLink.innerHTML = docLinkHtml;\n",
              "        element.appendChild(docLink);\n",
              "      }\n",
              "    </script>\n",
              "  </div>\n",
              "\n",
              "\n",
              "<div id=\"df-a566c371-405b-43ef-9d01-13031013150a\">\n",
              "  <button class=\"colab-df-quickchart\" onclick=\"quickchart('df-a566c371-405b-43ef-9d01-13031013150a')\"\n",
              "            title=\"Suggest charts\"\n",
              "            style=\"display:none;\">\n",
              "\n",
              "<svg xmlns=\"http://www.w3.org/2000/svg\" height=\"24px\"viewBox=\"0 0 24 24\"\n",
              "     width=\"24px\">\n",
              "    <g>\n",
              "        <path d=\"M19 3H5c-1.1 0-2 .9-2 2v14c0 1.1.9 2 2 2h14c1.1 0 2-.9 2-2V5c0-1.1-.9-2-2-2zM9 17H7v-7h2v7zm4 0h-2V7h2v10zm4 0h-2v-4h2v4z\"/>\n",
              "    </g>\n",
              "</svg>\n",
              "  </button>\n",
              "\n",
              "<style>\n",
              "  .colab-df-quickchart {\n",
              "      --bg-color: #E8F0FE;\n",
              "      --fill-color: #1967D2;\n",
              "      --hover-bg-color: #E2EBFA;\n",
              "      --hover-fill-color: #174EA6;\n",
              "      --disabled-fill-color: #AAA;\n",
              "      --disabled-bg-color: #DDD;\n",
              "  }\n",
              "\n",
              "  [theme=dark] .colab-df-quickchart {\n",
              "      --bg-color: #3B4455;\n",
              "      --fill-color: #D2E3FC;\n",
              "      --hover-bg-color: #434B5C;\n",
              "      --hover-fill-color: #FFFFFF;\n",
              "      --disabled-bg-color: #3B4455;\n",
              "      --disabled-fill-color: #666;\n",
              "  }\n",
              "\n",
              "  .colab-df-quickchart {\n",
              "    background-color: var(--bg-color);\n",
              "    border: none;\n",
              "    border-radius: 50%;\n",
              "    cursor: pointer;\n",
              "    display: none;\n",
              "    fill: var(--fill-color);\n",
              "    height: 32px;\n",
              "    padding: 0;\n",
              "    width: 32px;\n",
              "  }\n",
              "\n",
              "  .colab-df-quickchart:hover {\n",
              "    background-color: var(--hover-bg-color);\n",
              "    box-shadow: 0 1px 2px rgba(60, 64, 67, 0.3), 0 1px 3px 1px rgba(60, 64, 67, 0.15);\n",
              "    fill: var(--button-hover-fill-color);\n",
              "  }\n",
              "\n",
              "  .colab-df-quickchart-complete:disabled,\n",
              "  .colab-df-quickchart-complete:disabled:hover {\n",
              "    background-color: var(--disabled-bg-color);\n",
              "    fill: var(--disabled-fill-color);\n",
              "    box-shadow: none;\n",
              "  }\n",
              "\n",
              "  .colab-df-spinner {\n",
              "    border: 2px solid var(--fill-color);\n",
              "    border-color: transparent;\n",
              "    border-bottom-color: var(--fill-color);\n",
              "    animation:\n",
              "      spin 1s steps(1) infinite;\n",
              "  }\n",
              "\n",
              "  @keyframes spin {\n",
              "    0% {\n",
              "      border-color: transparent;\n",
              "      border-bottom-color: var(--fill-color);\n",
              "      border-left-color: var(--fill-color);\n",
              "    }\n",
              "    20% {\n",
              "      border-color: transparent;\n",
              "      border-left-color: var(--fill-color);\n",
              "      border-top-color: var(--fill-color);\n",
              "    }\n",
              "    30% {\n",
              "      border-color: transparent;\n",
              "      border-left-color: var(--fill-color);\n",
              "      border-top-color: var(--fill-color);\n",
              "      border-right-color: var(--fill-color);\n",
              "    }\n",
              "    40% {\n",
              "      border-color: transparent;\n",
              "      border-right-color: var(--fill-color);\n",
              "      border-top-color: var(--fill-color);\n",
              "    }\n",
              "    60% {\n",
              "      border-color: transparent;\n",
              "      border-right-color: var(--fill-color);\n",
              "    }\n",
              "    80% {\n",
              "      border-color: transparent;\n",
              "      border-right-color: var(--fill-color);\n",
              "      border-bottom-color: var(--fill-color);\n",
              "    }\n",
              "    90% {\n",
              "      border-color: transparent;\n",
              "      border-bottom-color: var(--fill-color);\n",
              "    }\n",
              "  }\n",
              "</style>\n",
              "\n",
              "  <script>\n",
              "    async function quickchart(key) {\n",
              "      const quickchartButtonEl =\n",
              "        document.querySelector('#' + key + ' button');\n",
              "      quickchartButtonEl.disabled = true;  // To prevent multiple clicks.\n",
              "      quickchartButtonEl.classList.add('colab-df-spinner');\n",
              "      try {\n",
              "        const charts = await google.colab.kernel.invokeFunction(\n",
              "            'suggestCharts', [key], {});\n",
              "      } catch (error) {\n",
              "        console.error('Error during call to suggestCharts:', error);\n",
              "      }\n",
              "      quickchartButtonEl.classList.remove('colab-df-spinner');\n",
              "      quickchartButtonEl.classList.add('colab-df-quickchart-complete');\n",
              "    }\n",
              "    (() => {\n",
              "      let quickchartButtonEl =\n",
              "        document.querySelector('#df-a566c371-405b-43ef-9d01-13031013150a button');\n",
              "      quickchartButtonEl.style.display =\n",
              "        google.colab.kernel.accessAllowed ? 'block' : 'none';\n",
              "    })();\n",
              "  </script>\n",
              "</div>\n",
              "\n",
              "    </div>\n",
              "  </div>\n"
            ],
            "text/plain": [
              "                     Data_Features Data_Type    Null  Null_Percentage  \\\n",
              "0                               id     int64       0           0.0000   \n",
              "1                            hotel    object       0           0.0000   \n",
              "2                      is_canceled     int64       0           0.0000   \n",
              "3                        lead_time     int64       0           0.0000   \n",
              "4                arrival_date_year     int64       0           0.0000   \n",
              "5               arrival_date_month    object       0           0.0000   \n",
              "6         arrival_date_week_number     int64       0           0.0000   \n",
              "7        arrival_date_day_of_month     int64       0           0.0000   \n",
              "8          stays_in_weekend_nights     int64       0           0.0000   \n",
              "9             stays_in_week_nights     int64       0           0.0000   \n",
              "10                          adults     int64       0           0.0000   \n",
              "11                        children   float64       4           0.0034   \n",
              "12                          babies     int64       0           0.0000   \n",
              "13                            meal    object       0           0.0000   \n",
              "14                         country    object     488           0.4087   \n",
              "15                  market_segment    object       0           0.0000   \n",
              "16            distribution_channel    object       0           0.0000   \n",
              "17               is_repeated_guest     int64       0           0.0000   \n",
              "18          previous_cancellations     int64       0           0.0000   \n",
              "19  previous_bookings_not_canceled     int64       0           0.0000   \n",
              "20              reserved_room_type    object       0           0.0000   \n",
              "21              assigned_room_type    object       0           0.0000   \n",
              "22                 booking_changes     int64       0           0.0000   \n",
              "23                    deposit_type    object       0           0.0000   \n",
              "24                           agent   float64   16340          13.6862   \n",
              "25                         company   float64  112593          94.3069   \n",
              "26            days_in_waiting_list     int64       0           0.0000   \n",
              "27                   customer_type    object       0           0.0000   \n",
              "28                             adr   float64       0           0.0000   \n",
              "29     required_car_parking_spaces     int64       0           0.0000   \n",
              "30       total_of_special_requests     int64       0           0.0000   \n",
              "31              reservation_status    object       0           0.0000   \n",
              "32         reservation_status_date    object       0           0.0000   \n",
              "\n",
              "    Unique_Value  \n",
              "0         119390  \n",
              "1              2  \n",
              "2              2  \n",
              "3            479  \n",
              "4              3  \n",
              "5             12  \n",
              "6             53  \n",
              "7             31  \n",
              "8             17  \n",
              "9             35  \n",
              "10            14  \n",
              "11             5  \n",
              "12             5  \n",
              "13             5  \n",
              "14           177  \n",
              "15             8  \n",
              "16             5  \n",
              "17             2  \n",
              "18            15  \n",
              "19            73  \n",
              "20            10  \n",
              "21            12  \n",
              "22            21  \n",
              "23             3  \n",
              "24           333  \n",
              "25           352  \n",
              "26           128  \n",
              "27             4  \n",
              "28          8879  \n",
              "29             5  \n",
              "30             6  \n",
              "31             3  \n",
              "32           926  "
            ]
          },
          "execution_count": 67,
          "metadata": {},
          "output_type": "execute_result"
        }
      ],
      "source": [
        "check_values(df_hotels)"
      ]
    },
    {
      "cell_type": "markdown",
      "metadata": {
        "id": "i7AOGLHotEyW"
      },
      "source": [
        "Question 2"
      ]
    },
    {
      "cell_type": "code",
      "execution_count": null,
      "metadata": {
        "colab": {
          "base_uri": "https://localhost:8080/"
        },
        "id": "s5R1k1Edrjx3",
        "outputId": "725f11d4-e84b-4c13-f45a-636ed5593d37"
      },
      "outputs": [
        {
          "data": {
            "text/plain": [
              "is_canceled\n",
              "0    75166\n",
              "1    44224\n",
              "Name: count, dtype: int64"
            ]
          },
          "execution_count": 48,
          "metadata": {},
          "output_type": "execute_result"
        }
      ],
      "source": [
        "df_hotels.is_canceled.value_counts()"
      ]
    },
    {
      "cell_type": "code",
      "execution_count": null,
      "metadata": {
        "colab": {
          "base_uri": "https://localhost:8080/"
        },
        "id": "hkAUWRFvtHBV",
        "outputId": "6f69b5aa-a37e-4eb7-f78a-28edd28a7643"
      },
      "outputs": [
        {
          "data": {
            "text/plain": [
              "is_canceled\n",
              "0    0.629584\n",
              "1    0.370416\n",
              "Name: proportion, dtype: float64"
            ]
          },
          "execution_count": 49,
          "metadata": {},
          "output_type": "execute_result"
        }
      ],
      "source": [
        "df_hotels.is_canceled.value_counts(normalize=True)"
      ]
    },
    {
      "cell_type": "code",
      "execution_count": null,
      "metadata": {
        "colab": {
          "base_uri": "https://localhost:8080/",
          "height": 480
        },
        "id": "Yzzc5fhktVvX",
        "outputId": "61bf1c12-282c-4d43-f851-56d683f9beb8"
      },
      "outputs": [
        {
          "data": {
            "image/png": "[encoded data removed]",
            "text/plain": [
              "<Figure size 640x480 with 1 Axes>"
            ]
          },
          "metadata": {},
          "output_type": "display_data"
        }
      ],
      "source": [
        "sns.countplot(data = df_hotels, x = 'is_canceled')\n",
        "plt.title('Cancelled')\n",
        "plt.show()"
      ]
    },
    {
      "cell_type": "markdown",
      "metadata": {
        "id": "b1xhF0FRtyaZ"
      },
      "source": [
        "Question 3"
      ]
    },
    {
      "cell_type": "markdown",
      "metadata": {
        "id": "mmdKDrbKt2p3"
      },
      "source": [
        "3 a"
      ]
    },
    {
      "cell_type": "code",
      "execution_count": null,
      "metadata": {
        "colab": {
          "base_uri": "https://localhost:8080/"
        },
        "id": "kBYIfQJdtnEY",
        "outputId": "bed9bae6-f845-4063-bcc3-63860d62aac7"
      },
      "outputs": [
        {
          "name": "stdout",
          "output_type": "stream",
          "text": [
            "41.73\n"
          ]
        }
      ],
      "source": [
        "CityHotel = round(100*(len(df_hotels[(df_hotels.hotel == 'City Hotel') & (df_hotels.is_canceled == 1)])/len(df_hotels[df_hotels.hotel == 'City Hotel'])), 2)\n",
        "print(CityHotel)"
      ]
    },
    {
      "cell_type": "markdown",
      "metadata": {
        "id": "MTt9EvRovjDN"
      },
      "source": [
        "3 b"
      ]
    },
    {
      "cell_type": "code",
      "execution_count": null,
      "metadata": {
        "colab": {
          "base_uri": "https://localhost:8080/"
        },
        "id": "AfA3v1zavhMs",
        "outputId": "6971520b-4362-4aa8-8e67-f5d05342a2fe"
      },
      "outputs": [
        {
          "name": "stdout",
          "output_type": "stream",
          "text": [
            "27.76\n"
          ]
        }
      ],
      "source": [
        "ResortHotel = round(100*(len(df_hotels[(df_hotels.hotel == 'Resort Hotel') & (df_hotels.is_canceled == 1)])/len(df_hotels[df_hotels.hotel == 'Resort Hotel'])), 2)\n",
        "print(ResortHotel)"
      ]
    },
    {
      "cell_type": "markdown",
      "metadata": {
        "id": "VJgOLZG5vwlY"
      },
      "source": [
        "3 c"
      ]
    },
    {
      "cell_type": "code",
      "execution_count": null,
      "metadata": {
        "colab": {
          "base_uri": "https://localhost:8080/"
        },
        "id": "XJJqWlTxvuny",
        "outputId": "cf07a4f9-4aed-40f7-c488-8e1526909ef2"
      },
      "outputs": [
        {
          "name": "stdout",
          "output_type": "stream",
          "text": [
            "City Hotel has more cancellations\n"
          ]
        }
      ],
      "source": [
        "if CityHotel > ResortHotel:\n",
        "  print('City Hotel has more cancellations')\n",
        "else:\n",
        "  print('Resort Hotel has more cancellations')"
      ]
    },
    {
      "cell_type": "markdown",
      "metadata": {
        "id": "JHpVj4JPwXT-"
      },
      "source": [
        "4"
      ]
    },
    {
      "cell_type": "code",
      "execution_count": null,
      "metadata": {
        "colab": {
          "base_uri": "https://localhost:8080/"
        },
        "collapsed": true,
        "id": "-lwdRqdpwUTi",
        "outputId": "63795f1b-25f3-4071-a3eb-77d57610bf23"
      },
      "outputs": [
        {
          "name": "stdout",
          "output_type": "stream",
          "text": [
            "            id         hotel  is_canceled  lead_time  arrival_date_year  \\\n",
            "0            0  Resort Hotel            0        342               2015   \n",
            "1            1  Resort Hotel            0        737               2015   \n",
            "2            2  Resort Hotel            0          7               2015   \n",
            "3            3  Resort Hotel            0         13               2015   \n",
            "4            4  Resort Hotel            0         14               2015   \n",
            "...        ...           ...          ...        ...                ...   \n",
            "119385  119385    City Hotel            0         23               2017   \n",
            "119386  119386    City Hotel            0        102               2017   \n",
            "119387  119387    City Hotel            0         34               2017   \n",
            "119388  119388    City Hotel            0        109               2017   \n",
            "119389  119389    City Hotel            0        205               2017   \n",
            "\n",
            "       arrival_date_month  arrival_date_week_number  \\\n",
            "0                    July                        27   \n",
            "1                    July                        27   \n",
            "2                    July                        27   \n",
            "3                    July                        27   \n",
            "4                    July                        27   \n",
            "...                   ...                       ...   \n",
            "119385             August                        35   \n",
            "119386             August                        35   \n",
            "119387             August                        35   \n",
            "119388             August                        35   \n",
            "119389             August                        35   \n",
            "\n",
            "        arrival_date_day_of_month  stays_in_weekend_nights  \\\n",
            "0                               1                        0   \n",
            "1                               1                        0   \n",
            "2                               1                        0   \n",
            "3                               1                        0   \n",
            "4                               1                        0   \n",
            "...                           ...                      ...   \n",
            "119385                         30                        2   \n",
            "119386                         31                        2   \n",
            "119387                         31                        2   \n",
            "119388                         31                        2   \n",
            "119389                         29                        2   \n",
            "\n",
            "        stays_in_week_nights  ...  deposit_type  agent  company  \\\n",
            "0                          0  ...    No Deposit    NaN      NaN   \n",
            "1                          0  ...    No Deposit    NaN      NaN   \n",
            "2                          1  ...    No Deposit    NaN      NaN   \n",
            "3                          1  ...    No Deposit  304.0      NaN   \n",
            "4                          2  ...    No Deposit  240.0      NaN   \n",
            "...                      ...  ...           ...    ...      ...   \n",
            "119385                     5  ...    No Deposit  394.0      NaN   \n",
            "119386                     5  ...    No Deposit    9.0      NaN   \n",
            "119387                     5  ...    No Deposit    9.0      NaN   \n",
            "119388                     5  ...    No Deposit   89.0      NaN   \n",
            "119389                     7  ...    No Deposit    9.0      NaN   \n",
            "\n",
            "       days_in_waiting_list customer_type     adr required_car_parking_spaces  \\\n",
            "0                         0     Transient    0.00                           0   \n",
            "1                         0     Transient    0.00                           0   \n",
            "2                         0     Transient   75.00                           0   \n",
            "3                         0     Transient   75.00                           0   \n",
            "4                         0     Transient   98.00                           0   \n",
            "...                     ...           ...     ...                         ...   \n",
            "119385                    0     Transient   96.14                           0   \n",
            "119386                    0     Transient  225.43                           0   \n",
            "119387                    0     Transient  157.71                           0   \n",
            "119388                    0     Transient  104.40                           0   \n",
            "119389                    0     Transient  151.20                           0   \n",
            "\n",
            "        total_of_special_requests  reservation_status  reservation_status_date  \n",
            "0                               0           Check-Out               2015-07-01  \n",
            "1                               0           Check-Out               2015-07-01  \n",
            "2                               0           Check-Out               2015-07-02  \n",
            "3                               0           Check-Out               2015-07-02  \n",
            "4                               1           Check-Out               2015-07-03  \n",
            "...                           ...                 ...                      ...  \n",
            "119385                          0           Check-Out               2017-09-06  \n",
            "119386                          2           Check-Out               2017-09-07  \n",
            "119387                          4           Check-Out               2017-09-07  \n",
            "119388                          0           Check-Out               2017-09-07  \n",
            "119389                          2           Check-Out               2017-09-07  \n",
            "\n",
            "[75166 rows x 33 columns]\n"
          ]
        }
      ],
      "source": [
        "df_checkout = df_hotels[df_hotels.is_canceled == 0]\n",
        "print(df_checkout)"
      ]
    },
    {
      "cell_type": "markdown",
      "metadata": {
        "id": "w5b9cb_Cw0Ry"
      },
      "source": [
        "5"
      ]
    },
    {
      "cell_type": "markdown",
      "metadata": {
        "id": "04IVW2tNw26T"
      },
      "source": [
        "5a"
      ]
    },
    {
      "cell_type": "code",
      "execution_count": null,
      "metadata": {
        "colab": {
          "background_save": true
        },
        "id": "Lr7cpNzmwrez"
      },
      "outputs": [],
      "source": [
        "reservations = df_checkout.groupby(['hotel','arrival_date_month'])['id'].nunique()"
      ]
    },
    {
      "cell_type": "code",
      "execution_count": null,
      "metadata": {
        "id": "9VQjl4VExZNd"
      },
      "outputs": [],
      "source": []
    }
  ],
  "metadata": {
    "colab": {
      "provenance": [],
      "authorship_tag": "ABX9TyPIq6DwQRbshgtUbAXpc6fK",
      "include_colab_link": true
    },
    "kernelspec": {
      "display_name": "Python 3",
      "name": "python3"
    },
    "language_info": {
      "name": "python"
    }
  },
  "nbformat": 4,
  "nbformat_minor": 0
}